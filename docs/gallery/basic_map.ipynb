{
 "cells": [
  {
   "cell_type": "markdown",
   "metadata": {},
   "source": [
    "# A simple map"
   ]
  },
  {
   "cell_type": "code",
   "execution_count": 1,
   "metadata": {},
   "outputs": [
    {
     "name": "stderr",
     "output_type": "stream",
     "text": [
      "c:\\Users\\matthewt\\AppData\\Local\\miniforge3\\envs\\antarctic_plots_dev\\lib\\site-packages\\xarray\\backends\\cfgrib_.py:29: UserWarning: Failed to load cfgrib - most likely there is a problem accessing the ecCodes library. Try `import cfgrib` to get the full error message\n",
      "  warnings.warn(\n",
      "c:\\Users\\matthewt\\AppData\\Local\\miniforge3\\envs\\antarctic_plots_dev\\lib\\site-packages\\xarray\\backends\\plugins.py:64: RuntimeWarning: Engine 'cfgrib' loading failed:\n",
      "Cannot find the ecCodes library\n",
      "  warnings.warn(f\"Engine {name!r} loading failed:\\n{ex}\", RuntimeWarning)\n"
     ]
    },
    {
     "data": {
      "text/plain": [
       "('1000', [1530500.0, 2459500.0, 430500.0, 999500.0], 0.0, 3130.0, 'g')"
      ]
     },
     "execution_count": 1,
     "metadata": {},
     "output_type": "execute_result"
    }
   ],
   "source": [
    "from antarctic_plots import maps, fetch, regions\n",
    "\n",
    "# load a grid file to plot\n",
    "ice_thickness = fetch.bedmachine(\n",
    "    layer=\"thickness\",  # choose which layer to plot ['thickness', 'surface', 'bed', 'icebase']\n",
    "    reference=\"ellipsoid\",  # optionally convert from geoid to ellipsoid\n",
    "    region=regions.amery_ice_shelf,  # choose a pre-defined region, or set your own\n",
    "    spacing=1e3,  # optionally change the grid spacing\n",
    ")\n",
    "\n",
    "# plot with automatic figure properties\n",
    "fig = maps.plot_grd(\n",
    "    ice_thickness,  # set grid to plot\n",
    "    cmap=\"cool\",  # choose GMT colorscale\n",
    "    coast=True,  # plot grounding and coastlines\n",
    "    cbar_label=\"Bedmachine ice thickness (m)\",  # add label\n",
    "    inset=True,  # optionally add inset map showing location\n",
    ")\n",
    "\n",
    "# display the figure\n",
    "fig.show()"
   ]
  }
 ],
 "metadata": {
  "kernelspec": {
   "display_name": "Python 3.9.13 ('antarctic_plots_dev')",
   "language": "python",
   "name": "python3"
  },
  "language_info": {
   "codemirror_mode": {
    "name": "ipython",
    "version": 3
   },
   "file_extension": ".py",
   "mimetype": "text/x-python",
   "name": "python",
   "nbconvert_exporter": "python",
   "pygments_lexer": "ipython3",
   "version": "3.9.13"
  },
  "orig_nbformat": 4,
  "vscode": {
   "interpreter": {
    "hash": "041a7f2299cd3625e6932f12614952187ebb3ec88bdd4b9d08714fa3a6e3ec20"
   }
  }
 },
 "nbformat": 4,
 "nbformat_minor": 2
}
