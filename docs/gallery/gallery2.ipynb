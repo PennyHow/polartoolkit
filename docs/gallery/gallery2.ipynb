{
 "cells": [
  {
   "cell_type": "markdown",
   "metadata": {
    "tags": [
     "nbsphinx-gallery"
    ]
   },
   "source": [
    "# Gallery\n",
    "\n",
    "* [Basic Map](basic_map.ipynb)\n",
    "![](gallery/outputs/basic_map.png)\n",
    "* [Add additional PyGMT methods](extend_pygmt.ipynb)\n",
    "* [Sample and plot profile](profile.ipynb)\n",
    "* [Add map to profile](profile_with_map.ipynb)\n",
    "* [Add data to profile](profile_with_data.ipynb)\n",
    "* [Define projection](setting_projection.ipynb)\n",
    "* [Create subplots](subplots.ipynb)"
   ]
  },
  {
   "cell_type": "markdown",
   "metadata": {},
   "source": []
  }
 ],
 "metadata": {
  "kernelspec": {
   "display_name": "Python 3.9.13 ('antarctic_plots_dev')",
   "language": "python",
   "name": "python3"
  },
  "language_info": {
   "codemirror_mode": {
    "name": "ipython",
    "version": 3
   },
   "file_extension": ".py",
   "mimetype": "text/x-python",
   "name": "python",
   "nbconvert_exporter": "python",
   "pygments_lexer": "ipython3",
   "version": "3.9.13"
  },
  "vscode": {
   "interpreter": {
    "hash": "041a7f2299cd3625e6932f12614952187ebb3ec88bdd4b9d08714fa3a6e3ec20"
   }
  }
 },
 "nbformat": 4,
 "nbformat_minor": 2
}
