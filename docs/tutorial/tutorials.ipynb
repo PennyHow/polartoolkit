{
 "cells": [
  {
   "cell_type": "markdown",
   "metadata": {
    "tags": [
     "nbsphinx-gallery"
    ]
   },
   "source": [
    "# Tutorials\n",
    "\n",
    "* [Fetching datasets](fetch_walkthrough.ipynb)\n",
    "* [Creating profiles and cross sections](profile_walkthrough.ipynb)\n",
    "* [Pre-defined regions](regions_plots.ipynb)"
   ]
  },
  {
   "cell_type": "markdown",
   "metadata": {},
   "source": []
  }
 ],
 "metadata": {
  "kernelspec": {
   "display_name": "Python 3.9.13 ('antarctic_plots_dev')",
   "language": "python",
   "name": "python3"
  },
  "language_info": {
   "name": "python",
   "version": "3.9.13"
  },
  "orig_nbformat": 4,
  "vscode": {
   "interpreter": {
    "hash": "041a7f2299cd3625e6932f12614952187ebb3ec88bdd4b9d08714fa3a6e3ec20"
   }
  }
 },
 "nbformat": 4,
 "nbformat_minor": 2
}
