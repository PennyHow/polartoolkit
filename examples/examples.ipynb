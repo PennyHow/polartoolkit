{
 "cells": [
  {
   "cell_type": "markdown",
   "metadata": {},
   "source": [
    "\n",
    "Here are some examples showing how to use this package. We'll start by showcasing the basic features, then progressively add more options."
   ]
  },
  {
   "cell_type": "code",
   "execution_count": 1,
   "metadata": {},
   "outputs": [],
   "source": [
    "# first, import the modules from the package\n",
    "from antarctic_plots import profile\n",
    "from antarctic_plots import fetch"
   ]
  },
  {
   "cell_type": "code",
   "execution_count": 2,
   "metadata": {},
   "outputs": [
    {
     "data": {
      "text/plain": [
       "'/Users/home/tankerma/.cache/pooch/b285f4002d8c10ce3df38c8afbceb715-Disco_deep_transect_1k.shp'"
      ]
     },
     "execution_count": 2,
     "metadata": {},
     "output_type": "execute_result"
    }
   ],
   "source": [
    "fetch.sample_shp()"
   ]
  },
  {
   "cell_type": "markdown",
   "metadata": {},
   "source": [
    "#### Simple cross section, with default layers (Bedmap2)"
   ]
  },
  {
   "cell_type": "markdown",
   "metadata": {},
   "source": [
    "#### line defined by 2 coordinates"
   ]
  },
  {
   "cell_type": "code",
   "execution_count": 3,
   "metadata": {},
   "outputs": [],
   "source": [
    "# define to coordinates for a start and end of the line, in meters east and north (EPSG3031).\n",
    "\n",
    "# from MBL to EANT\n",
    "a=(-1200e3,-1400e3)\n",
    "b=(1000e3, 1400e3)\n",
    "\n",
    "# siple coast profile\n",
    "# a=(-590e3,-1070e3)\n",
    "# b=(-100e3,-545e3)\n",
    "\n",
    "# call the main function, input the starting and ending points, and disable the map. \n",
    "# profile.plot_profile(\n",
    "#     method='points',\n",
    "#     start=a,\n",
    "#     stop=b,\n",
    "#     add_map=False,\n",
    "#     )"
   ]
  },
  {
   "cell_type": "code",
   "execution_count": null,
   "metadata": {},
   "outputs": [],
   "source": [
    "# increase the resolution with the parameter \"num\"\n",
    "profile.plot_profile(\n",
    "    method='points',\n",
    "    start=a,\n",
    "    stop=b,\n",
    "    num=500,\n",
    "    add_map=False,\n",
    "    )"
   ]
  },
  {
   "cell_type": "markdown",
   "metadata": {},
   "source": [
    "#### line definded by a shapefile"
   ]
  },
  {
   "cell_type": "code",
   "execution_count": 4,
   "metadata": {},
   "outputs": [
    {
     "ename": "DriverError",
     "evalue": "Unable to open /Users/home/tankerma/.cache/pooch/b285f4002d8c10ce3df38c8afbceb715-Disco_deep_transect_1k.shx or /Users/home/tankerma/.cache/pooch/b285f4002d8c10ce3df38c8afbceb715-Disco_deep_transect_1k.SHX. Set SHAPE_RESTORE_SHX config option to YES to restore or create it.",
     "output_type": "error",
     "traceback": [
      "\u001b[0;31m---------------------------------------------------------------------------\u001b[0m",
      "\u001b[0;31mCPLE_OpenFailedError\u001b[0m                      Traceback (most recent call last)",
      "File \u001b[0;32mfiona/_shim.pyx:83\u001b[0m, in \u001b[0;36mfiona._shim.gdal_open_vector\u001b[0;34m()\u001b[0m\n",
      "File \u001b[0;32mfiona/_err.pyx:291\u001b[0m, in \u001b[0;36mfiona._err.exc_wrap_pointer\u001b[0;34m()\u001b[0m\n",
      "\u001b[0;31mCPLE_OpenFailedError\u001b[0m: Unable to open /Users/home/tankerma/.cache/pooch/b285f4002d8c10ce3df38c8afbceb715-Disco_deep_transect_1k.shx or /Users/home/tankerma/.cache/pooch/b285f4002d8c10ce3df38c8afbceb715-Disco_deep_transect_1k.SHX. Set SHAPE_RESTORE_SHX config option to YES to restore or create it.",
      "\nDuring handling of the above exception, another exception occurred:\n",
      "\u001b[0;31mDriverError\u001b[0m                               Traceback (most recent call last)",
      "\u001b[1;32m/Users/home/tankerma/antarctic_plots/examples/examples.ipynb Cell 9\u001b[0m in \u001b[0;36m<cell line: 4>\u001b[0;34m()\u001b[0m\n\u001b[1;32m      <a href='vscode-notebook-cell:/Users/home/tankerma/antarctic_plots/examples/examples.ipynb#ch0000008?line=0'>1</a>\u001b[0m \u001b[39m# use a pre-made shapefile to define the line\u001b[39;00m\n\u001b[1;32m      <a href='vscode-notebook-cell:/Users/home/tankerma/antarctic_plots/examples/examples.ipynb#ch0000008?line=1'>2</a>\u001b[0m \u001b[39m# defaults to an included shapefile over the Ross Ice Shelf\u001b[39;00m\n\u001b[1;32m      <a href='vscode-notebook-cell:/Users/home/tankerma/antarctic_plots/examples/examples.ipynb#ch0000008?line=2'>3</a>\u001b[0m \u001b[39m# from Mulock Glacier to the ice front through Discover Deep.\u001b[39;00m\n\u001b[0;32m----> <a href='vscode-notebook-cell:/Users/home/tankerma/antarctic_plots/examples/examples.ipynb#ch0000008?line=3'>4</a>\u001b[0m profile\u001b[39m.\u001b[39;49mplot_profile(\n\u001b[1;32m      <a href='vscode-notebook-cell:/Users/home/tankerma/antarctic_plots/examples/examples.ipynb#ch0000008?line=4'>5</a>\u001b[0m     method\u001b[39m=\u001b[39;49m\u001b[39m'\u001b[39;49m\u001b[39mshapefile\u001b[39;49m\u001b[39m'\u001b[39;49m,\n\u001b[1;32m      <a href='vscode-notebook-cell:/Users/home/tankerma/antarctic_plots/examples/examples.ipynb#ch0000008?line=5'>6</a>\u001b[0m     add_map\u001b[39m=\u001b[39;49m\u001b[39mFalse\u001b[39;49;00m,\n\u001b[1;32m      <a href='vscode-notebook-cell:/Users/home/tankerma/antarctic_plots/examples/examples.ipynb#ch0000008?line=6'>7</a>\u001b[0m     )\n",
      "File \u001b[0;32m~/antarctic_plots/antarctic_plots/profile.py:166\u001b[0m, in \u001b[0;36mplot_profile\u001b[0;34m(method, start, stop, num, layers_dict, shapefile, shp_num_points, fillnans, clip, max_dist, min_dist, add_map, buffer_perc, map_background, map_cmap, data_dict, save, path)\u001b[0m\n\u001b[1;32m    157\u001b[0m \u001b[39m\"\"\"\u001b[39;00m\n\u001b[1;32m    158\u001b[0m \u001b[39mFunction to plot cross section of earth layers and optionally \u001b[39;00m\n\u001b[1;32m    159\u001b[0m \u001b[39madd a plot of data along the same line. Optionally can plot \u001b[39;00m\n\u001b[0;32m   (...)\u001b[0m\n\u001b[1;32m    163\u001b[0m \u001b[39m                                                {'color': str},}\u001b[39;00m\n\u001b[1;32m    164\u001b[0m \u001b[39m\"\"\"\u001b[39;00m\n\u001b[1;32m    165\u001b[0m \u001b[39m# determine where to sample the grids\u001b[39;00m\n\u001b[0;32m--> 166\u001b[0m points \u001b[39m=\u001b[39m create_profile(\n\u001b[1;32m    167\u001b[0m     method\u001b[39m=\u001b[39;49mmethod, \n\u001b[1;32m    168\u001b[0m     start\u001b[39m=\u001b[39;49mstart, stop\u001b[39m=\u001b[39;49mstop, num\u001b[39m=\u001b[39;49mnum, \n\u001b[1;32m    169\u001b[0m     shapefile\u001b[39m=\u001b[39;49mshapefile, \n\u001b[1;32m    170\u001b[0m     shp_num_points\u001b[39m=\u001b[39;49mshp_num_points)\n\u001b[1;32m    172\u001b[0m data_region\u001b[39m=\u001b[39mvd\u001b[39m.\u001b[39mget_region((points\u001b[39m.\u001b[39mx, points\u001b[39m.\u001b[39my))\n\u001b[1;32m    174\u001b[0m \u001b[39mif\u001b[39;00m layers_dict\u001b[39m==\u001b[39m\u001b[39mNone\u001b[39;00m:\n",
      "File \u001b[0;32m~/antarctic_plots/antarctic_plots/profile.py:29\u001b[0m, in \u001b[0;36mcreate_profile\u001b[0;34m(method, start, stop, num, shp_num_points, shapefile)\u001b[0m\n\u001b[1;32m     27\u001b[0m     coordinates \u001b[39m=\u001b[39m pd\u001b[39m.\u001b[39mDataFrame(data\u001b[39m=\u001b[39mnp\u001b[39m.\u001b[39mlinspace(start\u001b[39m=\u001b[39mstart, stop\u001b[39m=\u001b[39mstop, num\u001b[39m=\u001b[39mnum), columns\u001b[39m=\u001b[39m[\u001b[39m\"\u001b[39m\u001b[39mx\u001b[39m\u001b[39m\"\u001b[39m, \u001b[39m\"\u001b[39m\u001b[39my\u001b[39m\u001b[39m\"\u001b[39m])\n\u001b[1;32m     28\u001b[0m \u001b[39melif\u001b[39;00m method\u001b[39m==\u001b[39m\u001b[39m'\u001b[39m\u001b[39mshapefile\u001b[39m\u001b[39m'\u001b[39m:\n\u001b[0;32m---> 29\u001b[0m     shp\u001b[39m=\u001b[39mgpd\u001b[39m.\u001b[39;49mread_file(shapefile)\n\u001b[1;32m     30\u001b[0m     df\u001b[39m=\u001b[39mpd\u001b[39m.\u001b[39mDataFrame()\n\u001b[1;32m     31\u001b[0m     df[\u001b[39m'\u001b[39m\u001b[39mcoords\u001b[39m\u001b[39m'\u001b[39m]\u001b[39m=\u001b[39mshp\u001b[39m.\u001b[39mgeometry[\u001b[39m0\u001b[39m]\u001b[39m.\u001b[39mcoords[:]\n",
      "File \u001b[0;32m/home/tankerma/miniconda/envs/antarctic_plots/lib/python3.9/site-packages/geopandas/io/file.py:253\u001b[0m, in \u001b[0;36m_read_file\u001b[0;34m(filename, bbox, mask, rows, engine, **kwargs)\u001b[0m\n\u001b[1;32m    250\u001b[0m     path_or_bytes \u001b[39m=\u001b[39m filename\n\u001b[1;32m    252\u001b[0m \u001b[39mif\u001b[39;00m engine \u001b[39m==\u001b[39m \u001b[39m\"\u001b[39m\u001b[39mfiona\u001b[39m\u001b[39m\"\u001b[39m:\n\u001b[0;32m--> 253\u001b[0m     \u001b[39mreturn\u001b[39;00m _read_file_fiona(\n\u001b[1;32m    254\u001b[0m         path_or_bytes, from_bytes, bbox\u001b[39m=\u001b[39;49mbbox, mask\u001b[39m=\u001b[39;49mmask, rows\u001b[39m=\u001b[39;49mrows, \u001b[39m*\u001b[39;49m\u001b[39m*\u001b[39;49mkwargs\n\u001b[1;32m    255\u001b[0m     )\n\u001b[1;32m    256\u001b[0m \u001b[39melif\u001b[39;00m engine \u001b[39m==\u001b[39m \u001b[39m\"\u001b[39m\u001b[39mpyogrio\u001b[39m\u001b[39m\"\u001b[39m:\n\u001b[1;32m    257\u001b[0m     \u001b[39mreturn\u001b[39;00m _read_file_pyogrio(\n\u001b[1;32m    258\u001b[0m         path_or_bytes, bbox\u001b[39m=\u001b[39mbbox, mask\u001b[39m=\u001b[39mmask, rows\u001b[39m=\u001b[39mrows, \u001b[39m*\u001b[39m\u001b[39m*\u001b[39mkwargs\n\u001b[1;32m    259\u001b[0m     )\n",
      "File \u001b[0;32m/home/tankerma/miniconda/envs/antarctic_plots/lib/python3.9/site-packages/geopandas/io/file.py:294\u001b[0m, in \u001b[0;36m_read_file_fiona\u001b[0;34m(path_or_bytes, from_bytes, bbox, mask, rows, **kwargs)\u001b[0m\n\u001b[1;32m    291\u001b[0m     reader \u001b[39m=\u001b[39m fiona\u001b[39m.\u001b[39mopen\n\u001b[1;32m    293\u001b[0m \u001b[39mwith\u001b[39;00m fiona_env():\n\u001b[0;32m--> 294\u001b[0m     \u001b[39mwith\u001b[39;00m reader(path_or_bytes, \u001b[39m*\u001b[39;49m\u001b[39m*\u001b[39;49mkwargs) \u001b[39mas\u001b[39;00m features:\n\u001b[1;32m    295\u001b[0m \n\u001b[1;32m    296\u001b[0m         \u001b[39m# In a future Fiona release the crs attribute of features will\u001b[39;00m\n\u001b[1;32m    297\u001b[0m         \u001b[39m# no longer be a dict, but will behave like a dict. So this should\u001b[39;00m\n\u001b[1;32m    298\u001b[0m         \u001b[39m# be forwards compatible\u001b[39;00m\n\u001b[1;32m    299\u001b[0m         crs \u001b[39m=\u001b[39m (\n\u001b[1;32m    300\u001b[0m             features\u001b[39m.\u001b[39mcrs[\u001b[39m\"\u001b[39m\u001b[39minit\u001b[39m\u001b[39m\"\u001b[39m]\n\u001b[1;32m    301\u001b[0m             \u001b[39mif\u001b[39;00m features\u001b[39m.\u001b[39mcrs \u001b[39mand\u001b[39;00m \u001b[39m\"\u001b[39m\u001b[39minit\u001b[39m\u001b[39m\"\u001b[39m \u001b[39min\u001b[39;00m features\u001b[39m.\u001b[39mcrs\n\u001b[1;32m    302\u001b[0m             \u001b[39melse\u001b[39;00m features\u001b[39m.\u001b[39mcrs_wkt\n\u001b[1;32m    303\u001b[0m         )\n\u001b[1;32m    305\u001b[0m         \u001b[39m# handle loading the bounding box\u001b[39;00m\n",
      "File \u001b[0;32m/home/tankerma/miniconda/envs/antarctic_plots/lib/python3.9/site-packages/fiona/env.py:408\u001b[0m, in \u001b[0;36mensure_env_with_credentials.<locals>.wrapper\u001b[0;34m(*args, **kwargs)\u001b[0m\n\u001b[1;32m    405\u001b[0m \u001b[39m@wraps\u001b[39m(f)\n\u001b[1;32m    406\u001b[0m \u001b[39mdef\u001b[39;00m \u001b[39mwrapper\u001b[39m(\u001b[39m*\u001b[39margs, \u001b[39m*\u001b[39m\u001b[39m*\u001b[39mkwargs):\n\u001b[1;32m    407\u001b[0m     \u001b[39mif\u001b[39;00m local\u001b[39m.\u001b[39m_env:\n\u001b[0;32m--> 408\u001b[0m         \u001b[39mreturn\u001b[39;00m f(\u001b[39m*\u001b[39;49margs, \u001b[39m*\u001b[39;49m\u001b[39m*\u001b[39;49mkwargs)\n\u001b[1;32m    409\u001b[0m     \u001b[39melse\u001b[39;00m:\n\u001b[1;32m    410\u001b[0m         \u001b[39mif\u001b[39;00m \u001b[39misinstance\u001b[39m(args[\u001b[39m0\u001b[39m], \u001b[39mstr\u001b[39m):\n",
      "File \u001b[0;32m/home/tankerma/miniconda/envs/antarctic_plots/lib/python3.9/site-packages/fiona/__init__.py:264\u001b[0m, in \u001b[0;36mopen\u001b[0;34m(fp, mode, driver, schema, crs, encoding, layer, vfs, enabled_drivers, crs_wkt, **kwargs)\u001b[0m\n\u001b[1;32m    261\u001b[0m     path \u001b[39m=\u001b[39m parse_path(fp)\n\u001b[1;32m    263\u001b[0m \u001b[39mif\u001b[39;00m mode \u001b[39min\u001b[39;00m (\u001b[39m'\u001b[39m\u001b[39ma\u001b[39m\u001b[39m'\u001b[39m, \u001b[39m'\u001b[39m\u001b[39mr\u001b[39m\u001b[39m'\u001b[39m):\n\u001b[0;32m--> 264\u001b[0m     c \u001b[39m=\u001b[39m Collection(path, mode, driver\u001b[39m=\u001b[39;49mdriver, encoding\u001b[39m=\u001b[39;49mencoding,\n\u001b[1;32m    265\u001b[0m                    layer\u001b[39m=\u001b[39;49mlayer, enabled_drivers\u001b[39m=\u001b[39;49menabled_drivers, \u001b[39m*\u001b[39;49m\u001b[39m*\u001b[39;49mkwargs)\n\u001b[1;32m    266\u001b[0m \u001b[39melif\u001b[39;00m mode \u001b[39m==\u001b[39m \u001b[39m'\u001b[39m\u001b[39mw\u001b[39m\u001b[39m'\u001b[39m:\n\u001b[1;32m    267\u001b[0m     \u001b[39mif\u001b[39;00m schema:\n\u001b[1;32m    268\u001b[0m         \u001b[39m# Make an ordered dict of schema properties.\u001b[39;00m\n",
      "File \u001b[0;32m/home/tankerma/miniconda/envs/antarctic_plots/lib/python3.9/site-packages/fiona/collection.py:162\u001b[0m, in \u001b[0;36mCollection.__init__\u001b[0;34m(self, path, mode, driver, schema, crs, encoding, layer, vsi, archive, enabled_drivers, crs_wkt, ignore_fields, ignore_geometry, **kwargs)\u001b[0m\n\u001b[1;32m    160\u001b[0m \u001b[39mif\u001b[39;00m \u001b[39mself\u001b[39m\u001b[39m.\u001b[39mmode \u001b[39m==\u001b[39m \u001b[39m'\u001b[39m\u001b[39mr\u001b[39m\u001b[39m'\u001b[39m:\n\u001b[1;32m    161\u001b[0m     \u001b[39mself\u001b[39m\u001b[39m.\u001b[39msession \u001b[39m=\u001b[39m Session()\n\u001b[0;32m--> 162\u001b[0m     \u001b[39mself\u001b[39;49m\u001b[39m.\u001b[39;49msession\u001b[39m.\u001b[39;49mstart(\u001b[39mself\u001b[39;49m, \u001b[39m*\u001b[39;49m\u001b[39m*\u001b[39;49mkwargs)\n\u001b[1;32m    163\u001b[0m \u001b[39melif\u001b[39;00m \u001b[39mself\u001b[39m\u001b[39m.\u001b[39mmode \u001b[39min\u001b[39;00m (\u001b[39m'\u001b[39m\u001b[39ma\u001b[39m\u001b[39m'\u001b[39m, \u001b[39m'\u001b[39m\u001b[39mw\u001b[39m\u001b[39m'\u001b[39m):\n\u001b[1;32m    164\u001b[0m     \u001b[39mself\u001b[39m\u001b[39m.\u001b[39msession \u001b[39m=\u001b[39m WritingSession()\n",
      "File \u001b[0;32mfiona/ogrext.pyx:540\u001b[0m, in \u001b[0;36mfiona.ogrext.Session.start\u001b[0;34m()\u001b[0m\n",
      "File \u001b[0;32mfiona/_shim.pyx:90\u001b[0m, in \u001b[0;36mfiona._shim.gdal_open_vector\u001b[0;34m()\u001b[0m\n",
      "\u001b[0;31mDriverError\u001b[0m: Unable to open /Users/home/tankerma/.cache/pooch/b285f4002d8c10ce3df38c8afbceb715-Disco_deep_transect_1k.shx or /Users/home/tankerma/.cache/pooch/b285f4002d8c10ce3df38c8afbceb715-Disco_deep_transect_1k.SHX. Set SHAPE_RESTORE_SHX config option to YES to restore or create it."
     ]
    }
   ],
   "source": [
    "# use a pre-made shapefile to define the line\n",
    "# defaults to an included shapefile over the Ross Ice Shelf\n",
    "# from Mulock Glacier to the ice front through Discover Deep.\n",
    "profile.plot_profile(\n",
    "    method='shapefile',\n",
    "    add_map=False,\n",
    "    )"
   ]
  },
  {
   "cell_type": "code",
   "execution_count": null,
   "metadata": {},
   "outputs": [],
   "source": [
    "# decrease resolution with parameter shp_num_points\n",
    "profile.plot_profile(\n",
    "    method='shapefile',\n",
    "    add_map=False,\n",
    "    shp_num_points=10,\n",
    "    )"
   ]
  },
  {
   "cell_type": "markdown",
   "metadata": {},
   "source": [
    "#### add map"
   ]
  },
  {
   "cell_type": "code",
   "execution_count": null,
   "metadata": {},
   "outputs": [],
   "source": [
    "# add a map to show the location\n",
    "profile.plot_profile(\n",
    "    method='shapefile',\n",
    "    add_map=True,\n",
    "    )"
   ]
  },
  {
   "cell_type": "code",
   "execution_count": null,
   "metadata": {},
   "outputs": [],
   "source": [
    "# change the map background to show the surface topography instead of imagery\n",
    "profile.plot_profile(\n",
    "    method='shapefile',\n",
    "    add_map=True,\n",
    "    map_background=fetch.bedmap2('surface')\n",
    "    )"
   ]
  },
  {
   "cell_type": "code",
   "execution_count": null,
   "metadata": {},
   "outputs": [],
   "source": [
    "# clip the profile (either end) based on distance\n",
    "profile.plot_profile(\n",
    "    method='shapefile',\n",
    "    add_map=True,\n",
    "    clip=True,\n",
    "    min_dist=50e3,\n",
    "    max_dist=200e3,\n",
    "    )"
   ]
  },
  {
   "cell_type": "markdown",
   "metadata": {},
   "source": [
    "#### add default datasets"
   ]
  },
  {
   "cell_type": "code",
   "execution_count": null,
   "metadata": {},
   "outputs": [],
   "source": [
    "# sample and plot 2 default datasets, Free-air gravity and magnetic anomalies.\n",
    "profile.plot_profile(\n",
    "    method='shapefile',\n",
    "    add_map=True,\n",
    "    data_dict='default',\n",
    "    save=True, # save the plot to use in README \n",
    "    path='../cover_fig.png'\n",
    "    )"
   ]
  },
  {
   "cell_type": "code",
   "execution_count": null,
   "metadata": {},
   "outputs": [],
   "source": [
    "# get default bedmap2 layers\n",
    "layers_dict=profile.default_layers()\n",
    "# add dictionary entry of extra layers\n",
    "layers_dict['basement']={}\n",
    "layers_dict['basement']['name']='basement'\n",
    "layers_dict['basement']['grid']=fetch.basement()\n",
    "layers_dict['basement']['color']='chocolate'\n"
   ]
  },
  {
   "cell_type": "code",
   "execution_count": null,
   "metadata": {},
   "outputs": [],
   "source": [
    "# include your own grid files for both the cross section and the data profile\n",
    "\n",
    "# use function make_data_dict to specify grids and colors for data profile\n",
    "data_dict = profile.make_data_dict(['Bouguer gravity', 'DeepBedMap'], [fetch.gravity('BA'), fetch.deepbedmap()], ['purple', 'red'])\n",
    "\n",
    "# get default bedmap2 layers\n",
    "layers_dict=profile.default_layers()\n",
    "# add dictionary entry of extra layers\n",
    "layers_dict['basement']={}\n",
    "layers_dict['basement']['name']='basement'\n",
    "layers_dict['basement']['grid']=fetch.basement()\n",
    "layers_dict['basement']['color']='chocolate'\n",
    "\n",
    "profile.plot_profile(\n",
    "    method='shapefile',\n",
    "    add_map=True,\n",
    "    data_dict=data_dict,\n",
    "    layers_dict=layers_dict,\n",
    "    )"
   ]
  },
  {
   "cell_type": "code",
   "execution_count": null,
   "metadata": {},
   "outputs": [],
   "source": []
  }
 ],
 "metadata": {
  "kernelspec": {
   "display_name": "Python 3.9.13 ('antarctic_plots')",
   "language": "python",
   "name": "python3"
  },
  "language_info": {
   "codemirror_mode": {
    "name": "ipython",
    "version": 3
   },
   "file_extension": ".py",
   "mimetype": "text/x-python",
   "name": "python",
   "nbconvert_exporter": "python",
   "pygments_lexer": "ipython3",
   "version": "3.9.13"
  },
  "vscode": {
   "interpreter": {
    "hash": "67a058f5f8063e49e6f534918380c2705757fedf41a781746682a871c2022b06"
   }
  }
 },
 "nbformat": 4,
 "nbformat_minor": 4
}
