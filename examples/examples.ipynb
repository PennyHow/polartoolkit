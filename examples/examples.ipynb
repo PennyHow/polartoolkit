{
 "cells": [
  {
   "cell_type": "markdown",
   "metadata": {},
   "source": [
    "\n",
    "Here are some examples showing how to use this package. We'll start by showcasing the basic features, then progressively add more options."
   ]
  },
  {
   "cell_type": "code",
   "execution_count": 1,
   "metadata": {},
   "outputs": [
    {
     "ename": "GMTCLibNotFoundError",
     "evalue": "Error loading GMT shared library at 'gmt.dll'.\nCould not find module 'gmt.dll' (or one of its dependencies). Try using the full path with constructor syntax.\nError loading GMT shared library at 'gmt_w64.dll'.\nCould not find module 'gmt_w64.dll' (or one of its dependencies). Try using the full path with constructor syntax.\nError loading GMT shared library at 'gmt_w32.dll'.\nCould not find module 'gmt_w32.dll' (or one of its dependencies). Try using the full path with constructor syntax.",
     "output_type": "error",
     "traceback": [
      "\u001b[1;31m---------------------------------------------------------------------------\u001b[0m",
      "\u001b[1;31mGMTCLibNotFoundError\u001b[0m                      Traceback (most recent call last)",
      "\u001b[1;32mc:\\Users\\matthewt\\Documents\\Python_Scripts\\antarctic_plots\\examples\\examples.ipynb Cell 2\u001b[0m in \u001b[0;36m<cell line: 2>\u001b[1;34m()\u001b[0m\n\u001b[0;32m      <a href='vscode-notebook-cell:/c%3A/Users/matthewt/Documents/Python_Scripts/antarctic_plots/examples/examples.ipynb#ch0000001?line=0'>1</a>\u001b[0m \u001b[39m# first, import the modules from the package\u001b[39;00m\n\u001b[1;32m----> <a href='vscode-notebook-cell:/c%3A/Users/matthewt/Documents/Python_Scripts/antarctic_plots/examples/examples.ipynb#ch0000001?line=1'>2</a>\u001b[0m \u001b[39mfrom\u001b[39;00m \u001b[39mantarctic_plots\u001b[39;00m \u001b[39mimport\u001b[39;00m profile\n\u001b[0;32m      <a href='vscode-notebook-cell:/c%3A/Users/matthewt/Documents/Python_Scripts/antarctic_plots/examples/examples.ipynb#ch0000001?line=2'>3</a>\u001b[0m \u001b[39mfrom\u001b[39;00m \u001b[39mantarctic_plots\u001b[39;00m \u001b[39mimport\u001b[39;00m fetch\n",
      "File \u001b[1;32mc:\\Users\\matthewt\\AppData\\Local\\miniforge3\\envs\\antarctic_plots\\lib\\site-packages\\antarctic_plots\\profile.py:3\u001b[0m, in \u001b[0;36m<module>\u001b[1;34m\u001b[0m\n\u001b[0;32m      1\u001b[0m \u001b[39mimport\u001b[39;00m \u001b[39mpandas\u001b[39;00m \u001b[39mas\u001b[39;00m \u001b[39mpd\u001b[39;00m\n\u001b[0;32m      2\u001b[0m \u001b[39mimport\u001b[39;00m \u001b[39mnumpy\u001b[39;00m \u001b[39mas\u001b[39;00m \u001b[39mnp\u001b[39;00m\n\u001b[1;32m----> 3\u001b[0m \u001b[39mimport\u001b[39;00m \u001b[39mpygmt\u001b[39;00m\n\u001b[0;32m      4\u001b[0m \u001b[39m# import geopandas as gpd\u001b[39;00m\n\u001b[0;32m      5\u001b[0m \u001b[39mimport\u001b[39;00m \u001b[39mverde\u001b[39;00m \u001b[39mas\u001b[39;00m \u001b[39mvd\u001b[39;00m\n",
      "File \u001b[1;32m~\\AppData\\Roaming\\Python\\Python39\\site-packages\\pygmt\\__init__.py:74\u001b[0m, in \u001b[0;36m<module>\u001b[1;34m\u001b[0m\n\u001b[0;32m     71\u001b[0m __commit__ \u001b[39m=\u001b[39m __version__\u001b[39m.\u001b[39msplit(\u001b[39m\"\u001b[39m\u001b[39m+g\u001b[39m\u001b[39m\"\u001b[39m)[\u001b[39m-\u001b[39m\u001b[39m1\u001b[39m] \u001b[39mif\u001b[39;00m \u001b[39m\"\u001b[39m\u001b[39m+g\u001b[39m\u001b[39m\"\u001b[39m \u001b[39min\u001b[39;00m __version__ \u001b[39melse\u001b[39;00m \u001b[39m\"\u001b[39m\u001b[39m\"\u001b[39m  \u001b[39m# 0ab3cd78\u001b[39;00m\n\u001b[0;32m     73\u001b[0m \u001b[39m# Start our global modern mode session\u001b[39;00m\n\u001b[1;32m---> 74\u001b[0m _begin()\n\u001b[0;32m     75\u001b[0m \u001b[39m# Tell Python to run _end when shutting down\u001b[39;00m\n\u001b[0;32m     76\u001b[0m _atexit\u001b[39m.\u001b[39mregister(_end)\n",
      "File \u001b[1;32m~\\AppData\\Roaming\\Python\\Python39\\site-packages\\pygmt\\session_management.py:16\u001b[0m, in \u001b[0;36mbegin\u001b[1;34m()\u001b[0m\n\u001b[0;32m      8\u001b[0m \u001b[39m\"\"\"\u001b[39;00m\n\u001b[0;32m      9\u001b[0m \u001b[39mInitiate a new GMT modern mode session.\u001b[39;00m\n\u001b[0;32m     10\u001b[0m \n\u001b[1;32m   (...)\u001b[0m\n\u001b[0;32m     13\u001b[0m \u001b[39mOnly meant to be used once for creating the global session.\u001b[39;00m\n\u001b[0;32m     14\u001b[0m \u001b[39m\"\"\"\u001b[39;00m\n\u001b[0;32m     15\u001b[0m prefix \u001b[39m=\u001b[39m \u001b[39m\"\u001b[39m\u001b[39mpygmt-session\u001b[39m\u001b[39m\"\u001b[39m\n\u001b[1;32m---> 16\u001b[0m \u001b[39mwith\u001b[39;00m Session() \u001b[39mas\u001b[39;00m lib:\n\u001b[0;32m     17\u001b[0m     lib\u001b[39m.\u001b[39mcall_module(module\u001b[39m=\u001b[39m\u001b[39m\"\u001b[39m\u001b[39mbegin\u001b[39m\u001b[39m\"\u001b[39m, args\u001b[39m=\u001b[39mprefix)\n\u001b[0;32m     18\u001b[0m     \u001b[39m# pygmt relies on GMT modern mode with GMT_COMPATIBILITY at version 6\u001b[39;00m\n",
      "File \u001b[1;32m~\\AppData\\Roaming\\Python\\Python39\\site-packages\\pygmt\\clib\\session.py:187\u001b[0m, in \u001b[0;36mSession.__enter__\u001b[1;34m(self)\u001b[0m\n\u001b[0;32m    174\u001b[0m \u001b[39mdef\u001b[39;00m \u001b[39m__enter__\u001b[39m(\u001b[39mself\u001b[39m):\n\u001b[0;32m    175\u001b[0m     \u001b[39m\"\"\"\u001b[39;00m\n\u001b[0;32m    176\u001b[0m \u001b[39m    Create a GMT API session and check the libgmt version.\u001b[39;00m\n\u001b[0;32m    177\u001b[0m \n\u001b[1;32m   (...)\u001b[0m\n\u001b[0;32m    185\u001b[0m \u001b[39m        raising the exception.\u001b[39;00m\n\u001b[0;32m    186\u001b[0m \u001b[39m    \"\"\"\u001b[39;00m\n\u001b[1;32m--> 187\u001b[0m     \u001b[39mself\u001b[39;49m\u001b[39m.\u001b[39;49mcreate(\u001b[39m\"\u001b[39;49m\u001b[39mpygmt-session\u001b[39;49m\u001b[39m\"\u001b[39;49m)\n\u001b[0;32m    188\u001b[0m     \u001b[39m# Need to store the version info because 'get_default' won't work after\u001b[39;00m\n\u001b[0;32m    189\u001b[0m     \u001b[39m# the session is destroyed.\u001b[39;00m\n\u001b[0;32m    190\u001b[0m     version \u001b[39m=\u001b[39m \u001b[39mself\u001b[39m\u001b[39m.\u001b[39minfo[\u001b[39m\"\u001b[39m\u001b[39mversion\u001b[39m\u001b[39m\"\u001b[39m]\n",
      "File \u001b[1;32m~\\AppData\\Roaming\\Python\\Python39\\site-packages\\pygmt\\clib\\session.py:334\u001b[0m, in \u001b[0;36mSession.create\u001b[1;34m(self, name)\u001b[0m\n\u001b[0;32m    331\u001b[0m \u001b[39mexcept\u001b[39;00m GMTCLibNoSessionError:\n\u001b[0;32m    332\u001b[0m     \u001b[39mpass\u001b[39;00m\n\u001b[1;32m--> 334\u001b[0m c_create_session \u001b[39m=\u001b[39m \u001b[39mself\u001b[39;49m\u001b[39m.\u001b[39;49mget_libgmt_func(\n\u001b[0;32m    335\u001b[0m     \u001b[39m\"\u001b[39;49m\u001b[39mGMT_Create_Session\u001b[39;49m\u001b[39m\"\u001b[39;49m,\n\u001b[0;32m    336\u001b[0m     argtypes\u001b[39m=\u001b[39;49m[ctp\u001b[39m.\u001b[39;49mc_char_p, ctp\u001b[39m.\u001b[39;49mc_uint, ctp\u001b[39m.\u001b[39;49mc_uint, ctp\u001b[39m.\u001b[39;49mc_void_p],\n\u001b[0;32m    337\u001b[0m     restype\u001b[39m=\u001b[39;49mctp\u001b[39m.\u001b[39;49mc_void_p,\n\u001b[0;32m    338\u001b[0m )\n\u001b[0;32m    340\u001b[0m \u001b[39m# Capture the output printed by GMT into this list. Will use it later\u001b[39;00m\n\u001b[0;32m    341\u001b[0m \u001b[39m# to generate error messages for the exceptions raised by API calls.\u001b[39;00m\n\u001b[0;32m    342\u001b[0m \u001b[39mself\u001b[39m\u001b[39m.\u001b[39m_error_log \u001b[39m=\u001b[39m []  \u001b[39m# pylint: disable=attribute-defined-outside-init\u001b[39;00m\n",
      "File \u001b[1;32m~\\AppData\\Roaming\\Python\\Python39\\site-packages\\pygmt\\clib\\session.py:286\u001b[0m, in \u001b[0;36mSession.get_libgmt_func\u001b[1;34m(self, name, argtypes, restype)\u001b[0m\n\u001b[0;32m    249\u001b[0m \u001b[39m\"\"\"\u001b[39;00m\n\u001b[0;32m    250\u001b[0m \u001b[39mGet a ctypes function from the libgmt shared library.\u001b[39;00m\n\u001b[0;32m    251\u001b[0m \n\u001b[1;32m   (...)\u001b[0m\n\u001b[0;32m    282\u001b[0m \u001b[39m<class 'ctypes.CDLL.__init__.<locals>._FuncPtr'>\u001b[39;00m\n\u001b[0;32m    283\u001b[0m \u001b[39m\"\"\"\u001b[39;00m\n\u001b[0;32m    284\u001b[0m \u001b[39mif\u001b[39;00m \u001b[39mnot\u001b[39;00m \u001b[39mhasattr\u001b[39m(\u001b[39mself\u001b[39m, \u001b[39m\"\u001b[39m\u001b[39m_libgmt\u001b[39m\u001b[39m\"\u001b[39m):\n\u001b[0;32m    285\u001b[0m     \u001b[39m# pylint: disable=attribute-defined-outside-init\u001b[39;00m\n\u001b[1;32m--> 286\u001b[0m     \u001b[39mself\u001b[39m\u001b[39m.\u001b[39m_libgmt \u001b[39m=\u001b[39m load_libgmt()\n\u001b[0;32m    287\u001b[0m function \u001b[39m=\u001b[39m \u001b[39mgetattr\u001b[39m(\u001b[39mself\u001b[39m\u001b[39m.\u001b[39m_libgmt, name)\n\u001b[0;32m    288\u001b[0m \u001b[39mif\u001b[39;00m argtypes \u001b[39mis\u001b[39;00m \u001b[39mnot\u001b[39;00m \u001b[39mNone\u001b[39;00m:\n",
      "File \u001b[1;32m~\\AppData\\Roaming\\Python\\Python39\\site-packages\\pygmt\\clib\\loading.py:59\u001b[0m, in \u001b[0;36mload_libgmt\u001b[1;34m(lib_fullnames)\u001b[0m\n\u001b[0;32m     56\u001b[0m         failing_libs\u001b[39m.\u001b[39mappend(libname)\n\u001b[0;32m     58\u001b[0m \u001b[39mif\u001b[39;00m error:\n\u001b[1;32m---> 59\u001b[0m     \u001b[39mraise\u001b[39;00m GMTCLibNotFoundError(\u001b[39m\"\u001b[39m\u001b[39m\\n\u001b[39;00m\u001b[39m\"\u001b[39m\u001b[39m.\u001b[39mjoin(error_msg))\n\u001b[0;32m     61\u001b[0m \u001b[39mreturn\u001b[39;00m libgmt\n",
      "\u001b[1;31mGMTCLibNotFoundError\u001b[0m: Error loading GMT shared library at 'gmt.dll'.\nCould not find module 'gmt.dll' (or one of its dependencies). Try using the full path with constructor syntax.\nError loading GMT shared library at 'gmt_w64.dll'.\nCould not find module 'gmt_w64.dll' (or one of its dependencies). Try using the full path with constructor syntax.\nError loading GMT shared library at 'gmt_w32.dll'.\nCould not find module 'gmt_w32.dll' (or one of its dependencies). Try using the full path with constructor syntax."
     ]
    }
   ],
   "source": [
    "# first, import the modules from the package\n",
    "from antarctic_plots import profile\n",
    "from antarctic_plots import fetch"
   ]
  },
  {
   "cell_type": "markdown",
   "metadata": {},
   "source": [
    "#### Simple cross section, with default layers (Bedmap2)"
   ]
  },
  {
   "cell_type": "markdown",
   "metadata": {},
   "source": [
    "#### line defined by 2 coordinates"
   ]
  },
  {
   "cell_type": "code",
   "execution_count": null,
   "metadata": {},
   "outputs": [],
   "source": [
    "# define to coordinates for a start and end of the line, in meters east and north (EPSG3031).\n",
    "\n",
    "# from MBL to EANT\n",
    "a=(-1200e3,-1400e3)\n",
    "b=(1000e3, 1400e3)\n",
    "\n",
    "# siple coast profile\n",
    "# a=(-590e3,-1070e3)\n",
    "# b=(-100e3,-545e3)\n",
    "\n",
    "# call the main function, input the starting and ending points, and disable the map. \n",
    "# profile.plot_profile(\n",
    "#     method='points',\n",
    "#     start=a,\n",
    "#     stop=b,\n",
    "#     add_map=False,\n",
    "#     )"
   ]
  },
  {
   "cell_type": "code",
   "execution_count": null,
   "metadata": {},
   "outputs": [],
   "source": [
    "# increase the resolution with the parameter \"num\"\n",
    "profile.plot_profile(\n",
    "    method='points',\n",
    "    start=a,\n",
    "    stop=b,\n",
    "    num=500,\n",
    "    add_map=False,\n",
    "    )"
   ]
  },
  {
   "cell_type": "markdown",
   "metadata": {},
   "source": [
    "#### line definded by a shapefile"
   ]
  },
  {
   "cell_type": "code",
   "execution_count": null,
   "metadata": {},
   "outputs": [],
   "source": [
    "# use a pre-made shapefile to define the line\n",
    "# defaults to an included shapefile over the Ross Ice Shelf\n",
    "# from Mulock Glacier to the ice front through Discover Deep.\n",
    "profile.plot_profile(\n",
    "    method='shapefile',\n",
    "    add_map=False,\n",
    "    )"
   ]
  },
  {
   "cell_type": "code",
   "execution_count": null,
   "metadata": {},
   "outputs": [],
   "source": [
    "# decrease resolution with parameter shp_num_points\n",
    "profile.plot_profile(\n",
    "    method='shapefile',\n",
    "    add_map=False,\n",
    "    shp_num_points=10,\n",
    "    )"
   ]
  },
  {
   "cell_type": "markdown",
   "metadata": {},
   "source": [
    "#### add map"
   ]
  },
  {
   "cell_type": "code",
   "execution_count": null,
   "metadata": {},
   "outputs": [],
   "source": [
    "# add a map to show the location\n",
    "profile.plot_profile(\n",
    "    method='shapefile',\n",
    "    add_map=True,\n",
    "    )"
   ]
  },
  {
   "cell_type": "code",
   "execution_count": null,
   "metadata": {},
   "outputs": [],
   "source": [
    "# change the map background to show the surface topography instead of imagery\n",
    "profile.plot_profile(\n",
    "    method='shapefile',\n",
    "    add_map=True,\n",
    "    map_background=fetch.bedmap2('surface')\n",
    "    )"
   ]
  },
  {
   "cell_type": "code",
   "execution_count": null,
   "metadata": {},
   "outputs": [],
   "source": [
    "# clip the profile (either end) based on distance\n",
    "profile.plot_profile(\n",
    "    method='shapefile',\n",
    "    add_map=True,\n",
    "    clip=True,\n",
    "    min_dist=50e3,\n",
    "    max_dist=200e3,\n",
    "    )"
   ]
  },
  {
   "cell_type": "markdown",
   "metadata": {},
   "source": [
    "#### add default datasets"
   ]
  },
  {
   "cell_type": "code",
   "execution_count": null,
   "metadata": {},
   "outputs": [],
   "source": [
    "# sample and plot 2 default datasets, Free-air gravity and magnetic anomalies.\n",
    "profile.plot_profile(\n",
    "    method='shapefile',\n",
    "    add_map=True,\n",
    "    data_dict='default',\n",
    "    save=True, # save the plot to use in README \n",
    "    path='../cover_fig.png'\n",
    "    )"
   ]
  },
  {
   "cell_type": "code",
   "execution_count": null,
   "metadata": {},
   "outputs": [],
   "source": [
    "# get default bedmap2 layers\n",
    "layers_dict=profile.default_layers()\n",
    "# add dictionary entry of extra layers\n",
    "layers_dict['basement']={}\n",
    "layers_dict['basement']['name']='basement'\n",
    "layers_dict['basement']['grid']=fetch.basement()\n",
    "layers_dict['basement']['color']='chocolate'\n"
   ]
  },
  {
   "cell_type": "code",
   "execution_count": null,
   "metadata": {},
   "outputs": [],
   "source": [
    "# include your own grid files for both the cross section and the data profile\n",
    "\n",
    "# use function make_data_dict to specify grids and colors for data profile\n",
    "data_dict = profile.make_data_dict(['Bouguer gravity', 'DeepBedMap'], [fetch.gravity('BA'), fetch.deepbedmap()], ['purple', 'red'])\n",
    "\n",
    "# get default bedmap2 layers\n",
    "layers_dict=profile.default_layers()\n",
    "# add dictionary entry of extra layers\n",
    "layers_dict['basement']={}\n",
    "layers_dict['basement']['name']='basement'\n",
    "layers_dict['basement']['grid']=fetch.basement()\n",
    "layers_dict['basement']['color']='chocolate'\n",
    "\n",
    "profile.plot_profile(\n",
    "    method='shapefile',\n",
    "    add_map=True,\n",
    "    data_dict=data_dict,\n",
    "    layers_dict=layers_dict,\n",
    "    )"
   ]
  },
  {
   "cell_type": "code",
   "execution_count": null,
   "metadata": {},
   "outputs": [],
   "source": []
  }
 ],
 "metadata": {
  "kernelspec": {
   "display_name": "Python 3.9.13 ('antarctic_plots')",
   "language": "python",
   "name": "python3"
  },
  "language_info": {
   "codemirror_mode": {
    "name": "ipython",
    "version": 3
   },
   "file_extension": ".py",
   "mimetype": "text/x-python",
   "name": "python",
   "nbconvert_exporter": "python",
   "pygments_lexer": "ipython3",
   "version": "3.9.13"
  },
  "vscode": {
   "interpreter": {
    "hash": "1897308a2b5d89e1a17aaaecdff203e1ae6c84ca264f2a71031d0e322da47d67"
   }
  }
 },
 "nbformat": 4,
 "nbformat_minor": 4
}
