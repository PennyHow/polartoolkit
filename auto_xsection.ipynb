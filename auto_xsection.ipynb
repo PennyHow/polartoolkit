{
 "cells": [
  {
   "cell_type": "markdown",
   "metadata": {},
   "source": [
    "# Automatically plot Antarctic cross-section/profiles\n",
    "This notebook contains a simple script to plot cross-sections of Antarctica earth layers and data profiles. Choose your cross-section location as either a straight lines between 2 points, or to follow the path of a shapefile. Choose which earth layers to plot, such as Bedmachine or Bedmap. Also, include dataset to plot profiles of, such as ice velocity, gravity, or magnetics. \n",
    "\n",
    "Feel free to reach out with any questions or suggestions.\n",
    "\n",
    "*Matt Tankersley*  \n",
    "*Antarctic Research Centre, Victoria University of Wellington, NZ*    \n",
    "*matthew.tankersley@vuw.ac.nz*  "
   ]
  },
  {
   "cell_type": "markdown",
   "metadata": {},
   "source": [
    "### Datasets\n",
    "\n",
    "The following datasets are provided in /sample_data:\n",
    "* BedMachine bathymetry (Morlighem et al., 2020. https://doi.org/10.1038/s41561-019-0510-8)\n",
    "    - https://nsidc.org/data/NSIDC-0756/versions/2\n",
    "* MEaSUREs grounding line and coastline (Rignot et al., 2013. https://doi.org/10.1126/science.1235798)\n",
    "    - https://nsidc.org/data/nsidc-0709\n",
    "* Antarctic gravity grids, from Rene Forsberg, \"Preliminary compilation of Antarctic gravity and gravity gradient data\", 2020\n",
    "- https://ftp.space.dtu.dk/pub/RF/4D-ANTARCTICA/\n",
    "    - Free air anomalies: ant4d_fa.tif\n",
    "    - Bouguer anomalies: ant4d_bafa.tif\n",
    "    \n",
    "These datasets need to be download and added to the /sample_data folder:\n",
    "* MODIS-MOA satellite imagery (Scambos et al., 2007. https://doi.org/10.1016/j.rse.2006.12.020)\n",
    "    - https://nsidc.org/data/NSIDC-0593\n",
    "    - get geotiff \"moa750_2009_hp1_v02.0.tif\"\n",
    "* [MEaSUREs Phase-Based Antarctica Ice Velocity Map, v1](https://nsidc.org/data/NSIDC-0754/versions/1)\n",
    "    - turned into velocity magnitude by [Venturelli et al. 2020]( https://doi.org/10.1029/2020GL088476)"
   ]
  },
  {
   "cell_type": "code",
   "execution_count": 2,
   "metadata": {},
   "outputs": [],
   "source": [
    "#import necessary packages \n",
    "import pygmt\n",
    "import pandas as pd\n",
    "import numpy as np\n",
    "import geopandas as gpd"
   ]
  },
  {
   "cell_type": "markdown",
   "metadata": {},
   "source": [
    "### Define cross-section/profile location\n",
    "2 options:\n",
    "* input 2 sets of x/y coordinates (in EPSG 3031) marking the beginning and end of the line. \n",
    "* set path to a shapefile which defines the line\n",
    "\n",
    "\n",
    "Note: shapefiles can be made quickly in QGIS. To increase the sampling resolution, use the QGIS tools \"Points along geometry\" and \"Points to path\" to increase the number of points on your shapefile"
   ]
  },
  {
   "cell_type": "code",
   "execution_count": 3,
   "metadata": {},
   "outputs": [],
   "source": [
    "# choose one of the below methods \n",
    "####\n",
    "# METHOD = \"points\"\n",
    "METHOD = \"shapefile\"\n",
    "####\n",
    "\n",
    "# Example profiles to plot\n",
    "# siple coast\n",
    "# a=(-590000,-1070000)\n",
    "# b=(-100000,-545000)\n",
    "\n",
    "# discovery deep\n",
    "# a=(307320,-1140665)\n",
    "# b=(274470,-1156657)\n",
    "\n",
    "# West to East Antarcitca\n",
    "# a=(-1689974,-874525)\n",
    "# b=(2174939,1721844)\n",
    "\n",
    "# Line from Mulock Glacier to ice front through Discover Deep\n",
    "gdf=gpd.read_file('sample_data\\Disco_deep_transect_1k.shp')\n",
    "\n",
    "# Line from ice shelf calving front to the grounding zone through Roosevelt Island\n",
    "# gdf=gpd.read_file('sample_data\\Roosevelt_Island_10k.shp')\n",
    "\n",
    "# N-S line along center of Ross Ice Shelf, as defined by the Mid-Shelf High basement feature (Tankersley et al. 2022, GRL)\n",
    "# gdf=gpd.read_file('C:/Users\\matthewt\\Documents\\Python_Scripts\\shapefiles\\EANT_WANT_divide_10k.shp')\n"
   ]
  },
  {
   "cell_type": "markdown",
   "metadata": {},
   "source": [
    "### Choose input datasets and colors"
   ]
  },
  {
   "cell_type": "code",
   "execution_count": 6,
   "metadata": {
    "tags": []
   },
   "outputs": [],
   "source": [
    "# earth-layer data to plot in cross-section\n",
    "earth_profilelist=(\n",
    "    'sample_data/BedMachine_surface_wgs_10k.nc',\n",
    "    'sample_data/BedMachine_icebase_wgs_10k.nc',\n",
    "    'sample_data/BedMachine_bed_wgs_10k.nc',\n",
    "     # 'C:/Users/matthewt/Documents/BedMachine/BedMachine_surface_wgs.nc',\n",
    "     # 'C:/Users/matthewt/Documents/BedMachine/BedMachine_icebase_wgs.nc',\n",
    "     # 'C:/Users/matthewt/Documents/BedMachine/BedMachine_bed_wgs.nc',\n",
    "     # 'C:/Users/matthewt/Documents/Python_Scripts/GRL_2021_Figures/rosetta_lindeque_basement_g80kfilt.nc', \n",
    "    )\n",
    "\n",
    "x_section_colorlist=(\n",
    "    'lightskyblue',\n",
    "    'darkblue',\n",
    "    'lightbrown',\n",
    "    'chocolate',\n",
    "    'darkbrown',\n",
    "    )\n",
    "\n",
    "# data to plot as a seperate profile\n",
    "data_profiledict={\n",
    "        'sample_data/ant4d_fa.tif' : ('FA grav', 'blue'),\n",
    "        'sample_data/ant4d_bafa.tif' : ('Boug grav', 'black'),\n",
    "        'sample_data/antarctic_ice_vel_phase_map_v01-vmag.nc' : ('Ice vel', 'purple'),\n",
    "        # 'C:/Users/matthewt/Documents/Python_Scripts/GRL_2021_Figures/RIS_Grav_5k.nc' : ('Grav', 'black'),\n",
    "        # 'C:/Users/matthewt/Documents/Python_Scripts/GRL_2021_Figures/RIS_Mag_5k.nc' : ('Mag', 'black'),\n",
    "}\n",
    "\n",
    "# background grid and colorscale for map    \n",
    "plot_grid='sample_data/moa750_2009_hp1_v1.1.tif'\n",
    "plot_cmap='gray'\n",
    "\n",
    "# buffer as percentage added to profile location on map; i.e. .4 adds 40% of profile extent on map.\n",
    "buffer_perc=.2"
   ]
  },
  {
   "cell_type": "markdown",
   "metadata": {},
   "source": [
    "### Code for sampling the data"
   ]
  },
  {
   "cell_type": "code",
   "execution_count": 7,
   "metadata": {},
   "outputs": [
    {
     "name": "stderr",
     "output_type": "stream",
     "text": [
      "C:\\Users\\matthewt\\AppData\\Local\\Temp\\ipykernel_18632\\2939994318.py:47: SettingWithCopyWarning: \n",
      "A value is trying to be set on a copy of a slice from a DataFrame.\n",
      "Try using .loc[row_indexer,col_indexer] = value instead\n",
      "\n",
      "See the caveats in the documentation: https://pandas.pydata.org/pandas-docs/stable/user_guide/indexing.html#returning-a-view-versus-a-copy\n",
      "  data_profiles['Distance'] = np.sqrt( (data_profiles.x-data_profiles.x.iloc[0])**2 + (data_profiles.y-data_profiles.y.iloc[0])**2 )\n"
     ]
    }
   ],
   "source": [
    "def create_profile(a, b): # function to create points every 1000m between points 'a' and 'b'\n",
    "    df = pd.DataFrame(data=np.linspace(start=a, stop=b, num=1000), columns=[\"x\", \"y\"])\n",
    "    return df\n",
    "\n",
    "def sample_line(points, data): # function to sample data at every point along line\n",
    "    points[data] = (pygmt.grdtrack(points=points, grid=data, newcolname=str(data)))[data]\n",
    "    return points\n",
    "\n",
    "if METHOD == 'points':\n",
    "    points = create_profile(a, b)\n",
    "elif METHOD == 'shapefile':\n",
    "    shape=pd.DataFrame()\n",
    "    shape['coords']=gdf.geometry[0].coords[:]\n",
    "    points=shape.coords.apply(pd.Series, index=['x','y'])\n",
    "else:\n",
    "    print(\"please choose a valid method, either 'points', or 'shapefile'\")\n",
    "\n",
    "# distance along line \n",
    "points['Distance'] = np.sqrt( (points.x-points.x.iloc[0])**2 + (points.y-points.y.iloc[0])**2 )\n",
    "\n",
    "# sample cross-section layers from grids\n",
    "for i in earth_profilelist:\n",
    "    earth_profiles=sample_line(points, i)\n",
    "    \n",
    "# use this to fill NaN's in layers with the values from layer above\n",
    "for i in range(len(earth_profilelist))[1:]:  #fill NaN's in lower layer with upper layer\n",
    "    earth_profiles[earth_profilelist[i]] = np.where(earth_profiles[earth_profilelist[i]].isnull(), \n",
    "                                                    earth_profiles[earth_profilelist[i-1]], \n",
    "                                                    earth_profiles[earth_profilelist[i]]) \n",
    "    \n",
    "# reset points dataframe before sampling data_profiledict(remove sampled columns)\n",
    "points=points[['x','y','Distance']].copy()\n",
    "\n",
    "# if grids in Data profile dict, sample them\n",
    "try:    \n",
    "    for key in data_profiledict:\n",
    "        data_profiles=sample_line(points, key)\n",
    "except:\n",
    "    print('no data profiles to plot')\n",
    "    \n",
    "# use this to shorten line on either end\n",
    "# earth_profiles=earth_profiles[earth_profiles.Distance>20000]\n",
    "# data_profiles=data_profiles[data_profiles.Distance>20000]\n",
    "\n",
    "# # reset distance\n",
    "# earth_profiles['Distance'] = np.sqrt( (earth_profiles.x-earth_profiles.x.iloc[0])**2 + (earth_profiles.y-earth_profiles.y.iloc[0])**2 )\n",
    "# data_profiles['Distance'] = np.sqrt( (data_profiles.x-data_profiles.x.iloc[0])**2 + (data_profiles.y-data_profiles.y.iloc[0])**2 )"
   ]
  },
  {
   "cell_type": "markdown",
   "metadata": {},
   "source": [
    "### Plot the results"
   ]
  },
  {
   "cell_type": "code",
   "execution_count": null,
   "metadata": {},
   "outputs": [
    {
     "name": "stderr",
     "output_type": "stream",
     "text": [
      "C:\\Users\\matthewt\\AppData\\Local\\miniforge3\\envs\\pygmt06\\lib\\site-packages\\geopandas\\io\\file.py:362: FutureWarning: pandas.Int64Index is deprecated and will be removed from pandas in a future version. Use pandas.Index with the appropriate dtype instead.\n",
      "  pd.Int64Index,\n",
      "C:\\Users\\matthewt\\AppData\\Local\\miniforge3\\envs\\pygmt06\\lib\\site-packages\\geopandas\\io\\file.py:362: FutureWarning: pandas.Int64Index is deprecated and will be removed from pandas in a future version. Use pandas.Index with the appropriate dtype instead.\n",
      "  pd.Int64Index,\n"
     ]
    }
   ],
   "source": [
    "figheight=90 # in mm\n",
    "\n",
    "# Automatic data extent + buffer as % of line length\n",
    "buffer=earth_profiles.Distance.max()*buffer_perc\n",
    "xl= earth_profiles.x.min()-buffer\n",
    "yl= earth_profiles.y.min()-buffer\n",
    "xh= earth_profiles.x.max()+buffer\n",
    "yh= earth_profiles.y.max()+buffer\n",
    "\n",
    "# Set figure parameters\n",
    "figwidth=figheight*(xh-xl)/(yh-yl) \n",
    "fig_ratio = (yh - yl) / (figheight/1000)\n",
    "fig_reg = str(xl) + '/' + str(xh) + '/' + str(yl) + '/' + str(yh) #W/E/S/N\n",
    "fig_proj = \"x1:\" + str(fig_ratio)\n",
    "fig_proj_ll = \"s0/-90/-71/1:\" + str(fig_ratio)\n",
    "\n",
    "# Initialize figure\n",
    "fig = pygmt.Figure()\n",
    "\n",
    "\"\"\"\n",
    "\n",
    "PLOT MAP \n",
    "\n",
    "\"\"\"\n",
    "\n",
    "fig.coast(region=fig_reg, projection=fig_proj_ll, land = 'grey', water = 'grey', \n",
    "          frame = [\"nwse\", \"xf100000\", \"yf100000\", \"g0\"],verbose='e')\n",
    "\n",
    "fig.grdimage(projection = fig_proj, \n",
    "             grid=plot_grid,\n",
    "             cmap=plot_cmap)\n",
    "\n",
    "# plot groundingline and coastlines\n",
    "fig.plot(data=gpd.read_file('sample_data/GroundingLine_Antarctica_v02.shp'), \n",
    "         pen = '1.2p,black', verbose='e')\n",
    "fig.plot(data=gpd.read_file('sample_data/Coastline_Antarctica_v02.shp'), \n",
    "         pen='1.2p,black', verbose='e')\n",
    "\n",
    "# Plot graticules overtop, at 4d latitude and 30d longitude\n",
    "with pygmt.config(MAP_ANNOT_OFFSET_PRIMARY = '-2p', MAP_FRAME_TYPE = 'inside',\n",
    "                  MAP_ANNOT_OBLIQUE = 0, FONT_ANNOT_PRIMARY = '6p,black,-=2p,white', \n",
    "                  MAP_GRID_PEN_PRIMARY = 'grey', MAP_TICK_LENGTH_PRIMARY = '-10p',\n",
    "                  MAP_TICK_PEN_PRIMARY = 'thinnest,grey', FORMAT_GEO_MAP = 'dddF',\n",
    "                  MAP_POLAR_CAP = '90/90', ):\n",
    "    fig.basemap(projection = fig_proj_ll, region = fig_reg,\n",
    "                frame = [\"NSWE\", \"xa30g15\", \"ya4g2\"], verbose='e')\n",
    "    with pygmt.config(FONT_ANNOT_PRIMARY = '6p,black'):\n",
    "        fig.basemap(projection = fig_proj_ll, region = fig_reg,\n",
    "                frame = [\"NSWE\", \"xa30\", \"ya4\"], verbose='e')\n",
    "\n",
    "# plot profile location, and endpoints on map   \n",
    "fig.plot(projection=fig_proj, region=fig_reg, x=earth_profiles.x, y=earth_profiles.y, pen='2p,red')\n",
    "fig.text(x = earth_profiles.loc[earth_profiles.Distance.idxmin()].x,\n",
    "        y = earth_profiles.loc[earth_profiles.Distance.idxmin()].y, \n",
    "        text = \"A\", fill = 'white', font = '12p,Helvetica,black', justify=\"CM\", clearance = '+tO')\n",
    "fig.text(x = earth_profiles.loc[earth_profiles.Distance.idxmax()].x,\n",
    "        y = earth_profiles.loc[earth_profiles.Distance.idxmax()].y, \n",
    "        text = \"B\", fill = 'white', font = '12p,Helvetica,black', justify='CM', clearance = '+tO')\n",
    "\n",
    "# shift figure to the right to make space for x-section and profiles\n",
    "fig.shift_origin(xshift=(figwidth/10)+1)\n",
    "\n",
    "\"\"\"\n",
    "\n",
    "PLOT CROSS-SECTION AND PROFILES\n",
    "\n",
    "\"\"\"\n",
    "# add space above and below top and bottom x-section layers\n",
    "y_buffer=(earth_profiles[earth_profilelist[0]].max()-earth_profiles[earth_profilelist[-1]].min())*.1\n",
    "# set region for x-section\n",
    "region_layers=[earth_profiles.Distance.min(), earth_profiles.Distance.max(),\n",
    "        earth_profiles[earth_profilelist[-1]].min()-y_buffer,\n",
    "        earth_profiles[earth_profilelist[0]].max()+y_buffer]\n",
    "\n",
    "# if data for profiles is set, set region and plot them, if not, make region for x-section fill space\n",
    "if data_profiledict:\n",
    "    try:\n",
    "        for key, value in data_profiledict.items():\n",
    "            region_data=[data_profiles.Distance.min(), data_profiles.Distance.max(),\n",
    "                        data_profiles[key].min(),\n",
    "                        data_profiles[key].max()]\n",
    "            fig.plot(region=region_data, projection=\"X9c/2.5c\", frame=['nSew','ag'], \n",
    "                     x=data_profiles.Distance, y=data_profiles[key], \n",
    "                     pen='2p,'+str(value[1]), label=value[0])\n",
    "        fig.legend(position=\"JBR+jBL+o0c\", box=True)\n",
    "        fig.shift_origin(yshift=\"h+.5c\")\n",
    "        fig.basemap(region=region_layers, projection=\"X9c/6c\", frame=True)\n",
    "        \n",
    "    except:\n",
    "         print('error plotting data profiles')\n",
    "else:    \n",
    "    print('No data profiles to plot')\n",
    "    fig.basemap(region=region_layers, projection=\"X9c/9c\", frame=True)\n",
    "    \n",
    "# plot x-section colored layers\n",
    "for i in list(range(len(earth_profilelist)))[1:]:\n",
    "    fig.plot(x=earth_profiles.Distance, y=earth_profiles[earth_profilelist[i]],\n",
    "        close='+yb', color=x_section_colorlist[i], frame=['nSew','a'],)\n",
    "\n",
    "# plot lines between layers\n",
    "for i in earth_profilelist:\n",
    "    fig.plot(x=earth_profiles.Distance, y=earth_profiles[i], pen='1p,black')\n",
    "    \n",
    "# plot 'A', 'B' locations\n",
    "fig.text(x=region_layers[0], y=region_layers[3], text='A', font='20p,Helvetica,black', \n",
    "         justify='CM', fill='white', no_clip=True)\n",
    "fig.text(x=region_layers[1], y=region_layers[3], text='B', font='20p,Helvetica,black', \n",
    "         justify='CM', fill='white', no_clip=True)\n",
    "\n",
    "fig.show()"
   ]
  },
  {
   "cell_type": "markdown",
   "metadata": {},
   "source": [
    "## Save figure"
   ]
  },
  {
   "cell_type": "code",
   "execution_count": 9,
   "metadata": {},
   "outputs": [
    {
     "name": "stderr",
     "output_type": "stream",
     "text": [
      "psconvert [ERROR]: Registry registered C:\\Program Files (x86)\\GPLGS\\gswin32c.exe does not exist. Resorting to the one provided in GMT.\n"
     ]
    }
   ],
   "source": [
    "out='cover_fig.png'\n",
    "fig.savefig(out, dpi=300)"
   ]
  },
  {
   "cell_type": "code",
   "execution_count": null,
   "metadata": {},
   "outputs": [],
   "source": []
  }
 ],
 "metadata": {
  "kernelspec": {
   "display_name": "pygmt06",
   "language": "python",
   "name": "pygmt06"
  },
  "language_info": {
   "codemirror_mode": {
    "name": "ipython",
    "version": 3
   },
   "file_extension": ".py",
   "mimetype": "text/x-python",
   "name": "python",
   "nbconvert_exporter": "python",
   "pygments_lexer": "ipython3",
   "version": "3.10.4"
  }
 },
 "nbformat": 4,
 "nbformat_minor": 4
}
